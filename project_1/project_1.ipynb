{
 "cells": [
  {
   "cell_type": "markdown",
   "id": "31af951c",
   "metadata": {},
   "source": [
    "# Project #1"
   ]
  },
  {
   "cell_type": "markdown",
   "id": "89abc7c8",
   "metadata": {},
   "source": [
    "#### Project overview\n",
    "\n",
    "In this project, you will complete five tasks based on a fabricated set of calls and texts exchanged during September 2016. You will use Python to analyze and answer questions about the texts and calls contained in the dataset. Lastly, you will perform run time analysis of your solution and determine its efficiency.\n",
    "\n",
    "#### What will I learn?\n",
    "In this project, you will:\n",
    "\n",
    "* Apply your Python knowledge to breakdown problems into their inputs and outputs.\n",
    "* Perform an efficiency analysis of your solution.\n",
    "* Warm up your Python skills for the course.\n",
    "\n",
    "#### Why this Project?\n",
    "You'll apply the skills you've learned so far in a more realistic scenario. The five tasks are structured to give you experience with a variety of programming problems. You will receive code review of your work; this personal feedback will help you to improve your solutions."
   ]
  },
  {
   "cell_type": "markdown",
   "id": "153b3fca",
   "metadata": {},
   "source": [
    "## I. Solve given tasks"
   ]
  },
  {
   "cell_type": "markdown",
   "id": "e10f215e",
   "metadata": {},
   "source": [
    "### Task 0"
   ]
  },
  {
   "cell_type": "code",
   "execution_count": 1,
   "id": "5ec7d9b2",
   "metadata": {},
   "outputs": [],
   "source": [
    "import csv\n",
    "with open('texts.csv', 'r') as f:\n",
    "    reader = csv.reader(f)\n",
    "    texts = list(reader)\n",
    "\n",
    "with open('calls.csv', 'r') as f:\n",
    "    reader = csv.reader(f)\n",
    "    calls = list(reader)"
   ]
  },
  {
   "cell_type": "code",
   "execution_count": null,
   "id": "77ab4950",
   "metadata": {},
   "outputs": [],
   "source": [
    "#texts"
   ]
  },
  {
   "cell_type": "code",
   "execution_count": null,
   "id": "cf731e82",
   "metadata": {},
   "outputs": [],
   "source": [
    "#calls"
   ]
  },
  {
   "cell_type": "markdown",
   "id": "76072563",
   "metadata": {},
   "source": [
    "**Problem:**\n",
    "\n",
    "What is the first record of texts and what is the last record of calls?\n",
    "\n",
    "Print messages:\n",
    "* \"First record of texts, *incoming number* texts *answering number* at time *time*\"\n",
    "* \"Last record of calls, *incoming number* calls *answering number* at time *time*, lasting *during* seconds\""
   ]
  },
  {
   "cell_type": "markdown",
   "id": "c330e4fd",
   "metadata": {},
   "source": [
    "#### Solution"
   ]
  },
  {
   "cell_type": "code",
   "execution_count": null,
   "id": "2fda2957",
   "metadata": {},
   "outputs": [],
   "source": [
    "# Add print statements\n",
    "print(\"First record of texts, {} texts {} at time {}\".format(texts[0][0],\n",
    "                                                             texts[0][1],\n",
    "                                                             texts[0][2]))\n",
    "print(\"Last record of calls, {} calls {} at time {}, lasting {} seconds\".format(calls[-1][0],\n",
    "                                                                                calls[-1][1],\n",
    "                                                                                calls[-1][2],\n",
    "                                                                                calls[-1][3]))"
   ]
  },
  {
   "cell_type": "markdown",
   "id": "7df0f875",
   "metadata": {},
   "source": [
    "### Task 1"
   ]
  },
  {
   "cell_type": "markdown",
   "id": "083d378b",
   "metadata": {},
   "source": [
    "**Problem**:\n",
    "\n",
    "How many different telephone numbers are there in the records?\n",
    "\n",
    "Print a message:\n",
    "\n",
    "\"There are *count* different telephone numbers in the records.\""
   ]
  },
  {
   "cell_type": "markdown",
   "id": "ee46294b",
   "metadata": {},
   "source": [
    "#### Solution"
   ]
  },
  {
   "cell_type": "code",
   "execution_count": null,
   "id": "3d775f5f",
   "metadata": {},
   "outputs": [],
   "source": [
    "sending_tel_num_txt_lst = []\n",
    "receiving_tel_num_txt_lst = []"
   ]
  },
  {
   "cell_type": "code",
   "execution_count": null,
   "id": "e010065d",
   "metadata": {},
   "outputs": [],
   "source": [
    "for item in texts:\n",
    "    if item[0] not in sending_tel_num_txt_lst:\n",
    "      sending_tel_num_txt_lst.append(item[0])\n",
    "    if item[1] not in receiving_tel_num_txt_lst:\n",
    "        receiving_tel_num_txt_lst.append(item[1])"
   ]
  },
  {
   "cell_type": "code",
   "execution_count": null,
   "id": "6562a012",
   "metadata": {},
   "outputs": [],
   "source": [
    "len(sending_tel_num_txt_lst)"
   ]
  },
  {
   "cell_type": "code",
   "execution_count": null,
   "id": "c08fff35",
   "metadata": {},
   "outputs": [],
   "source": [
    "len(receiving_tel_num_txt_lst)"
   ]
  },
  {
   "cell_type": "code",
   "execution_count": null,
   "id": "a7786055",
   "metadata": {},
   "outputs": [],
   "source": [
    "sending_tel_num_calls_lst = []\n",
    "receiving_tel_num_calls_lst = []"
   ]
  },
  {
   "cell_type": "code",
   "execution_count": null,
   "id": "91b97a92",
   "metadata": {},
   "outputs": [],
   "source": [
    "for item in calls:\n",
    "    if item[0] not in sending_tel_num_calls_lst:\n",
    "      sending_tel_num_calls_lst.append(item[0])\n",
    "    if item[1] not in receiving_tel_num_calls_lst:\n",
    "        receiving_tel_num_calls_lst.append(item[1])"
   ]
  },
  {
   "cell_type": "code",
   "execution_count": null,
   "id": "94d46f82",
   "metadata": {},
   "outputs": [],
   "source": [
    "len(sending_tel_num_calls_lst)"
   ]
  },
  {
   "cell_type": "code",
   "execution_count": null,
   "id": "9731cd1c",
   "metadata": {},
   "outputs": [],
   "source": [
    "len(receiving_tel_num_calls_lst)"
   ]
  },
  {
   "cell_type": "code",
   "execution_count": null,
   "id": "b222bce2",
   "metadata": {},
   "outputs": [],
   "source": [
    "unique_tel_num_lst = list(set(sending_tel_num_txt_lst + receiving_tel_num_txt_lst + sending_tel_num_calls_lst + receiving_tel_num_calls_lst))"
   ]
  },
  {
   "cell_type": "code",
   "execution_count": null,
   "id": "b9d44c37",
   "metadata": {},
   "outputs": [],
   "source": [
    "len(unique_tel_num_lst)"
   ]
  },
  {
   "cell_type": "code",
   "execution_count": null,
   "id": "cd650dc3",
   "metadata": {},
   "outputs": [],
   "source": [
    "print(\"There are {} different telephone numbers in the records.\".format(len(unique_tel_num_lst)))"
   ]
  },
  {
   "cell_type": "markdown",
   "id": "01954071",
   "metadata": {},
   "source": [
    "### Task 2"
   ]
  },
  {
   "cell_type": "markdown",
   "id": "5fd7ba50",
   "metadata": {},
   "source": [
    "**Problem**: \n",
    "    \n",
    "Which telephone number spent the longest time on the phone\n",
    "during the period? Don't forget that time spent answering a call is\n",
    "also time spent on the phone.\n",
    "\n",
    "Print a message:\n",
    "\n",
    "\"*Telephone number* spent the longest time, *total time* seconds, on the phone during \n",
    "September 2016.\"."
   ]
  },
  {
   "cell_type": "markdown",
   "id": "f1154c8f",
   "metadata": {},
   "source": [
    "#### Solution"
   ]
  },
  {
   "cell_type": "code",
   "execution_count": null,
   "id": "3aa6ccfa",
   "metadata": {},
   "outputs": [],
   "source": [
    "# Change datatype from string to integer for the duaration column in calls file\n",
    "for item in calls:\n",
    "    item[3] = int(item[3])"
   ]
  },
  {
   "cell_type": "code",
   "execution_count": null,
   "id": "4171eb70",
   "metadata": {},
   "outputs": [],
   "source": [
    "#calls"
   ]
  },
  {
   "cell_type": "code",
   "execution_count": null,
   "id": "fba80fc5",
   "metadata": {},
   "outputs": [],
   "source": [
    "# Create a dictionary with unique phone numbers\n",
    "unique_tel_num_dict = dict.fromkeys(unique_tel_num_lst, 0)"
   ]
  },
  {
   "cell_type": "code",
   "execution_count": null,
   "id": "e0163a97",
   "metadata": {},
   "outputs": [],
   "source": [
    "#unique_tel_num_dict"
   ]
  },
  {
   "cell_type": "code",
   "execution_count": null,
   "id": "ad46e5fb",
   "metadata": {},
   "outputs": [],
   "source": [
    "for item in calls:\n",
    "    unique_tel_num_dict[item[0]] += item[3]\n",
    "    unique_tel_num_dict[item[1]] += item[3]"
   ]
  },
  {
   "cell_type": "code",
   "execution_count": null,
   "id": "93a895fe",
   "metadata": {},
   "outputs": [],
   "source": [
    "#unique_tel_num_dict"
   ]
  },
  {
   "cell_type": "code",
   "execution_count": null,
   "id": "f1b11161",
   "metadata": {},
   "outputs": [],
   "source": [
    "max_key = max(unique_tel_num_dict, key=unique_tel_num_dict.get)"
   ]
  },
  {
   "cell_type": "code",
   "execution_count": null,
   "id": "41c7981e",
   "metadata": {},
   "outputs": [],
   "source": [
    "max_key"
   ]
  },
  {
   "cell_type": "code",
   "execution_count": null,
   "id": "91307899",
   "metadata": {},
   "outputs": [],
   "source": [
    "unique_tel_num_dict[max_key]"
   ]
  },
  {
   "cell_type": "code",
   "execution_count": null,
   "id": "49169b54",
   "metadata": {},
   "outputs": [],
   "source": [
    "print(\"{} spent the longest time, {} seconds, on the phone during September 2016\".format(max_key,\n",
    "                                                                                         unique_tel_num_dict[max_key]))"
   ]
  },
  {
   "cell_type": "markdown",
   "id": "ca291c0d",
   "metadata": {},
   "source": [
    "### Task 3"
   ]
  },
  {
   "cell_type": "markdown",
   "id": "11255b37",
   "metadata": {},
   "source": [
    "**Problem:**\n",
    "\n",
    "(080) is the area code for fixed line telephones in Bangalore.\n",
    "Fixed line numbers include parentheses, so Bangalore numbers\n",
    "have the form (080)xxxxxxx.)\n",
    "\n",
    "Part A: Find all of the area codes and mobile prefixes called by people\n",
    "in Bangalore. In other words, the calls were initiated by \"(080)\" area code\n",
    "to the following area codes and mobile prefixes:\n",
    " - Fixed lines start with an area code enclosed in brackets. The area\n",
    "   codes vary in length but always begin with 0.\n",
    " - Mobile numbers have no parentheses, but have a space in the middle\n",
    "   of the number to help readability. The prefix of a mobile number\n",
    "   is its first four digits, and they always start with 7, 8 or 9.\n",
    " - Telemarketers' numbers have no parentheses or space, but they start\n",
    "   with the area code 140.\n",
    "\n",
    "Print the answer as part of a message:\n",
    "\"The numbers called by people in Bangalore have codes:\"\n",
    " *list of codes*\n",
    "The list of codes should be print out one per line in lexicographic order with no duplicates.\n",
    "\n",
    "Part B: What percentage of calls from fixed lines in Bangalore are made\n",
    "to fixed lines also in Bangalore? In other words, of all the calls made\n",
    "from a number starting with \"(080)\", what percentage of these calls\n",
    "were made to a number also starting with \"(080)\"?\n",
    "\n",
    "Print the answer as a part of a message::\n",
    "\"*percentage* percent of calls from fixed lines in Bangalore are calls\n",
    "to other fixed lines in Bangalore.\"\n",
    "The percentage should have 2 decimal digits"
   ]
  },
  {
   "cell_type": "markdown",
   "id": "261d1f21",
   "metadata": {},
   "source": [
    "#### Solution:"
   ]
  },
  {
   "cell_type": "markdown",
   "id": "304bbea5",
   "metadata": {},
   "source": [
    "#### Part A"
   ]
  },
  {
   "cell_type": "code",
   "execution_count": null,
   "id": "a31cdf13",
   "metadata": {},
   "outputs": [],
   "source": [
    "def return_area_code(tel_number):\n",
    "    \"\"\"\n",
    "    This function returns are code for a telephone number.\n",
    "    \"\"\"\n",
    "    \n",
    "    # Fixed-line\n",
    "    if tel_number.startswith('(0'):\n",
    "        return tel_number.split(')')[0]+')'\n",
    "    \n",
    "    # Telemarketers\n",
    "    if tel_number.startswith('140'):\n",
    "        return '140'\n",
    "\n",
    "    # Mobile phone numbers\n",
    "    if (' ' in tel_number) and (tel_number.startswith('7') or tel_number.startswith('8') or tel_number.startswith('9')):\n",
    "        return tel_number[:4]\n",
    "    \n",
    "    else:\n",
    "        print('No rules to define the area code')\n",
    "        return None"
   ]
  },
  {
   "cell_type": "code",
   "execution_count": null,
   "id": "b8e5bf43",
   "metadata": {},
   "outputs": [],
   "source": [
    "bang_called_area_codes = []"
   ]
  },
  {
   "cell_type": "code",
   "execution_count": null,
   "id": "ce0bd440",
   "metadata": {},
   "outputs": [],
   "source": [
    "# Find area codes called by Bangalore telephone numbers\n",
    "for i in range(len(calls)):\n",
    "    if calls[i][0].startswith('(080)'):\n",
    "        bang_called_area_codes.append(return_area_code(calls[i][1]))"
   ]
  },
  {
   "cell_type": "code",
   "execution_count": null,
   "id": "f6686b6b",
   "metadata": {},
   "outputs": [],
   "source": [
    "len(bang_called_area_codes)"
   ]
  },
  {
   "cell_type": "code",
   "execution_count": null,
   "id": "b50de0ab",
   "metadata": {},
   "outputs": [],
   "source": [
    "# Remove duplicates\n",
    "bang_called_area_codes = list(set(bang_called_area_codes))"
   ]
  },
  {
   "cell_type": "code",
   "execution_count": null,
   "id": "7130fa57",
   "metadata": {},
   "outputs": [],
   "source": [
    "len(bang_called_area_codes)"
   ]
  },
  {
   "cell_type": "code",
   "execution_count": null,
   "id": "fac11c76",
   "metadata": {},
   "outputs": [],
   "source": [
    "# Sort list in in lexicographic order\n",
    "bang_called_area_codes.sort()"
   ]
  },
  {
   "cell_type": "code",
   "execution_count": null,
   "id": "dae7e6c2",
   "metadata": {},
   "outputs": [],
   "source": [
    "print(\"The numbers called by people in Bangalore have codes:\")"
   ]
  },
  {
   "cell_type": "code",
   "execution_count": null,
   "id": "80927fc9",
   "metadata": {},
   "outputs": [],
   "source": [
    "for code in bang_called_area_codes:\n",
    "    print(code)"
   ]
  },
  {
   "cell_type": "markdown",
   "id": "a85bab43",
   "metadata": {},
   "source": [
    "#### Part B"
   ]
  },
  {
   "cell_type": "code",
   "execution_count": null,
   "id": "afedf33a",
   "metadata": {},
   "outputs": [],
   "source": [
    "bang_to_all_tel_num_cnt = 0\n",
    "bang_to_bang_tel_num_cnt = 0"
   ]
  },
  {
   "cell_type": "code",
   "execution_count": null,
   "id": "23646e8a",
   "metadata": {},
   "outputs": [],
   "source": [
    "for i in range(len(calls)):\n",
    "    if calls[i][0].startswith('(080)'):\n",
    "        bang_to_all_tel_num_cnt += 1\n",
    "        if calls[i][1].startswith('(080)'):\n",
    "            bang_to_bang_tel_num_cnt += 1"
   ]
  },
  {
   "cell_type": "code",
   "execution_count": null,
   "id": "cd447694",
   "metadata": {},
   "outputs": [],
   "source": [
    "bang_to_all_tel_num_cnt"
   ]
  },
  {
   "cell_type": "code",
   "execution_count": null,
   "id": "563d2821",
   "metadata": {},
   "outputs": [],
   "source": [
    "bang_to_bang_tel_num_cnt"
   ]
  },
  {
   "cell_type": "code",
   "execution_count": null,
   "id": "a075969b",
   "metadata": {},
   "outputs": [],
   "source": [
    "# Calculate the percentage of calls made to Bamgalore from Bangalore\n",
    "pcnt_to_bang = round((bang_to_bang_tel_num_cnt * 100) / bang_to_all_tel_num_cnt, 1)"
   ]
  },
  {
   "cell_type": "code",
   "execution_count": null,
   "id": "8115f637",
   "metadata": {},
   "outputs": [],
   "source": [
    "pcnt_to_bang"
   ]
  },
  {
   "cell_type": "code",
   "execution_count": null,
   "id": "59d2a62f",
   "metadata": {},
   "outputs": [],
   "source": [
    "print(\"{} percent of calls from fixed lines in Bangalore are calls to other fixed lines in Bangalore.\".format(pcnt_to_bang))"
   ]
  },
  {
   "cell_type": "markdown",
   "id": "87bce47d",
   "metadata": {},
   "source": [
    "### Task 4"
   ]
  },
  {
   "cell_type": "markdown",
   "id": "e63e3b08",
   "metadata": {},
   "source": [
    "The telephone company want to identify numbers that might be doing telephone marketing. \n",
    "Create a set of possible telemarketers:\n",
    "* these are numbers that make outgoing calls but never send texts, receive texts or receive incoming calls.\n",
    "\n",
    "Print a message:\n",
    "\"These numbers could be telemarketers: \"\n",
    "<list of numbers>\n",
    "The list of numbers should be print out one per line in lexicographic order with no duplicates.\n",
    "\"\"\""
   ]
  },
  {
   "cell_type": "markdown",
   "id": "7f7c5b1d",
   "metadata": {},
   "source": [
    "List of telephone numbers, which make outgoing calls"
   ]
  },
  {
   "cell_type": "code",
   "execution_count": 2,
   "id": "53c59ad2",
   "metadata": {},
   "outputs": [],
   "source": [
    "tel_num_outgoing_calls = []\n",
    "tel_num_sent_text = []\n",
    "tel_num_received_text = []\n",
    "tel_num_received_calls = []"
   ]
  },
  {
   "cell_type": "code",
   "execution_count": 3,
   "id": "6a304bdd",
   "metadata": {},
   "outputs": [],
   "source": [
    "for i in range(len(calls)):\n",
    "    tel_num_outgoing_calls.append(calls[i][0])\n",
    "    tel_num_received_calls.append(calls[i][1])"
   ]
  },
  {
   "cell_type": "code",
   "execution_count": 4,
   "id": "2481818f",
   "metadata": {},
   "outputs": [],
   "source": [
    "for i in range(len(texts)):\n",
    "    tel_num_sent_text.append(texts[i][0])\n",
    "    tel_num_received_text.append(texts[i][1])"
   ]
  },
  {
   "cell_type": "code",
   "execution_count": 5,
   "id": "f7b7b639",
   "metadata": {},
   "outputs": [],
   "source": [
    "# Remove duplicates\n",
    "tel_num_outgoing_calls = list(set(tel_num_outgoing_calls))\n",
    "tel_num_sent_text = list(set(tel_num_sent_text))\n",
    "tel_num_received_text = list(set(tel_num_received_text))\n",
    "tel_num_received_calls = list(set(tel_num_received_calls))"
   ]
  },
  {
   "cell_type": "code",
   "execution_count": 6,
   "id": "be021432",
   "metadata": {},
   "outputs": [
    {
     "data": {
      "text/plain": [
       "479"
      ]
     },
     "execution_count": 6,
     "metadata": {},
     "output_type": "execute_result"
    }
   ],
   "source": [
    "len(tel_num_outgoing_calls)"
   ]
  },
  {
   "cell_type": "code",
   "execution_count": 7,
   "id": "dc0144c0",
   "metadata": {},
   "outputs": [
    {
     "data": {
      "text/plain": [
       "237"
      ]
     },
     "execution_count": 7,
     "metadata": {},
     "output_type": "execute_result"
    }
   ],
   "source": [
    "len(tel_num_sent_text)"
   ]
  },
  {
   "cell_type": "code",
   "execution_count": 8,
   "id": "314d9d5c",
   "metadata": {},
   "outputs": [
    {
     "data": {
      "text/plain": [
       "230"
      ]
     },
     "execution_count": 8,
     "metadata": {},
     "output_type": "execute_result"
    }
   ],
   "source": [
    "len(tel_num_received_text)"
   ]
  },
  {
   "cell_type": "code",
   "execution_count": 9,
   "id": "cdefce2a",
   "metadata": {},
   "outputs": [
    {
     "data": {
      "text/plain": [
       "497"
      ]
     },
     "execution_count": 9,
     "metadata": {},
     "output_type": "execute_result"
    }
   ],
   "source": [
    "len(tel_num_received_calls)"
   ]
  },
  {
   "cell_type": "code",
   "execution_count": 10,
   "id": "339c935c",
   "metadata": {},
   "outputs": [],
   "source": [
    "not_telemarketers = list(set(tel_num_sent_text + tel_num_received_text + tel_num_received_calls))"
   ]
  },
  {
   "cell_type": "code",
   "execution_count": 11,
   "id": "20c794aa",
   "metadata": {},
   "outputs": [
    {
     "data": {
      "text/plain": [
       "527"
      ]
     },
     "execution_count": 11,
     "metadata": {},
     "output_type": "execute_result"
    }
   ],
   "source": [
    "len(not_telemarketers)"
   ]
  },
  {
   "cell_type": "code",
   "execution_count": 12,
   "id": "073ffe52",
   "metadata": {},
   "outputs": [],
   "source": [
    "potential_telemarketers = []"
   ]
  },
  {
   "cell_type": "code",
   "execution_count": 13,
   "id": "8ead8926",
   "metadata": {},
   "outputs": [],
   "source": [
    "for i in range(len(tel_num_outgoing_calls)):\n",
    "    if tel_num_outgoing_calls[i] not in not_telemarketers:\n",
    "        potential_telemarketers.append(tel_num_outgoing_calls[i])"
   ]
  },
  {
   "cell_type": "code",
   "execution_count": 14,
   "id": "81296ecd",
   "metadata": {},
   "outputs": [],
   "source": [
    "potential_telemarketers = list(set(potential_telemarketers))"
   ]
  },
  {
   "cell_type": "code",
   "execution_count": 15,
   "id": "cd74a73d",
   "metadata": {},
   "outputs": [],
   "source": [
    "potential_telemarketers.sort()"
   ]
  },
  {
   "cell_type": "code",
   "execution_count": 16,
   "id": "0a21d07f",
   "metadata": {},
   "outputs": [
    {
     "data": {
      "text/plain": [
       "['(022)37572285',\n",
       " '(022)65548497',\n",
       " '(022)68535788',\n",
       " '(022)69042431',\n",
       " '(040)30429041',\n",
       " '(044)22020822',\n",
       " '(0471)2171438',\n",
       " '(0471)6579079',\n",
       " '(080)20383942',\n",
       " '(080)25820765',\n",
       " '(080)31606520',\n",
       " '(080)40362016',\n",
       " '(080)60463379',\n",
       " '(080)60998034',\n",
       " '(080)62963633',\n",
       " '(080)64015211',\n",
       " '(080)69887826',\n",
       " '(0821)3257740',\n",
       " '1400481538',\n",
       " '1401747654',\n",
       " '1402316533',\n",
       " '1403072432',\n",
       " '1403579926',\n",
       " '1404073047',\n",
       " '1404368883',\n",
       " '1404787681',\n",
       " '1407539117',\n",
       " '1408371942',\n",
       " '1408409918',\n",
       " '1408672243',\n",
       " '1409421631',\n",
       " '1409668775',\n",
       " '1409994233',\n",
       " '74064 66270',\n",
       " '78291 94593',\n",
       " '87144 55014',\n",
       " '90351 90193',\n",
       " '92414 69419',\n",
       " '94495 03761',\n",
       " '97404 30456',\n",
       " '97407 84573',\n",
       " '97442 45192',\n",
       " '99617 25274']"
      ]
     },
     "execution_count": 16,
     "metadata": {},
     "output_type": "execute_result"
    }
   ],
   "source": [
    "potential_telemarketers"
   ]
  },
  {
   "cell_type": "code",
   "execution_count": 17,
   "id": "faf29f67",
   "metadata": {},
   "outputs": [
    {
     "name": "stdout",
     "output_type": "stream",
     "text": [
      "These numbers could be telemarketers: \n"
     ]
    }
   ],
   "source": [
    "print(\"These numbers could be telemarketers: \")"
   ]
  },
  {
   "cell_type": "code",
   "execution_count": 18,
   "id": "1fdaa6d9",
   "metadata": {},
   "outputs": [
    {
     "name": "stdout",
     "output_type": "stream",
     "text": [
      "(022)37572285\n",
      "(022)65548497\n",
      "(022)68535788\n",
      "(022)69042431\n",
      "(040)30429041\n",
      "(044)22020822\n",
      "(0471)2171438\n",
      "(0471)6579079\n",
      "(080)20383942\n",
      "(080)25820765\n",
      "(080)31606520\n",
      "(080)40362016\n",
      "(080)60463379\n",
      "(080)60998034\n",
      "(080)62963633\n",
      "(080)64015211\n",
      "(080)69887826\n",
      "(0821)3257740\n",
      "1400481538\n",
      "1401747654\n",
      "1402316533\n",
      "1403072432\n",
      "1403579926\n",
      "1404073047\n",
      "1404368883\n",
      "1404787681\n",
      "1407539117\n",
      "1408371942\n",
      "1408409918\n",
      "1408672243\n",
      "1409421631\n",
      "1409668775\n",
      "1409994233\n",
      "74064 66270\n",
      "78291 94593\n",
      "87144 55014\n",
      "90351 90193\n",
      "92414 69419\n",
      "94495 03761\n",
      "97404 30456\n",
      "97407 84573\n",
      "97442 45192\n",
      "99617 25274\n"
     ]
    }
   ],
   "source": [
    "for number in potential_telemarketers:\n",
    "    print(number)"
   ]
  },
  {
   "cell_type": "markdown",
   "id": "608eda41",
   "metadata": {},
   "source": [
    "## II. Calculate big O"
   ]
  },
  {
   "cell_type": "code",
   "execution_count": null,
   "id": "d47dbb84",
   "metadata": {},
   "outputs": [],
   "source": []
  },
  {
   "cell_type": "code",
   "execution_count": null,
   "id": "b325afc8",
   "metadata": {},
   "outputs": [],
   "source": []
  },
  {
   "cell_type": "code",
   "execution_count": null,
   "id": "ee10fbc8",
   "metadata": {},
   "outputs": [],
   "source": []
  },
  {
   "cell_type": "code",
   "execution_count": null,
   "id": "582bf9b7",
   "metadata": {},
   "outputs": [],
   "source": []
  },
  {
   "cell_type": "code",
   "execution_count": null,
   "id": "c1738709",
   "metadata": {},
   "outputs": [],
   "source": []
  },
  {
   "cell_type": "code",
   "execution_count": null,
   "id": "62682fa9",
   "metadata": {},
   "outputs": [],
   "source": []
  },
  {
   "cell_type": "code",
   "execution_count": null,
   "id": "11d6b8c8",
   "metadata": {},
   "outputs": [],
   "source": []
  },
  {
   "cell_type": "code",
   "execution_count": null,
   "id": "3d8e0606",
   "metadata": {},
   "outputs": [],
   "source": []
  },
  {
   "cell_type": "code",
   "execution_count": null,
   "id": "19f49fbe",
   "metadata": {},
   "outputs": [],
   "source": []
  },
  {
   "cell_type": "code",
   "execution_count": null,
   "id": "54eee64b",
   "metadata": {},
   "outputs": [],
   "source": []
  },
  {
   "cell_type": "code",
   "execution_count": null,
   "id": "a902ac2d",
   "metadata": {},
   "outputs": [],
   "source": []
  }
 ],
 "metadata": {
  "kernelspec": {
   "display_name": "Python 3",
   "language": "python",
   "name": "python3"
  },
  "language_info": {
   "codemirror_mode": {
    "name": "ipython",
    "version": 3
   },
   "file_extension": ".py",
   "mimetype": "text/x-python",
   "name": "python",
   "nbconvert_exporter": "python",
   "pygments_lexer": "ipython3",
   "version": "3.7.10"
  }
 },
 "nbformat": 4,
 "nbformat_minor": 5
}
