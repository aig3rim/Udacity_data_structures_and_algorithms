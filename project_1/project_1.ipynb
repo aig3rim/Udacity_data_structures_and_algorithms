{
 "cells": [
  {
   "cell_type": "markdown",
   "id": "31af951c",
   "metadata": {},
   "source": [
    "# Project #1"
   ]
  },
  {
   "cell_type": "markdown",
   "id": "89abc7c8",
   "metadata": {},
   "source": [
    "#### Project overview\n",
    "\n",
    "In this project, you will complete five tasks based on a fabricated set of calls and texts exchanged during September 2016. You will use Python to analyze and answer questions about the texts and calls contained in the dataset. Lastly, you will perform run time analysis of your solution and determine its efficiency.\n",
    "\n",
    "#### What will I learn?\n",
    "In this project, you will:\n",
    "\n",
    "* Apply your Python knowledge to breakdown problems into their inputs and outputs.\n",
    "* Perform an efficiency analysis of your solution.\n",
    "* Warm up your Python skills for the course.\n",
    "\n",
    "#### Why this Project?\n",
    "You'll apply the skills you've learned so far in a more realistic scenario. The five tasks are structured to give you experience with a variety of programming problems. You will receive code review of your work; this personal feedback will help you to improve your solutions."
   ]
  },
  {
   "cell_type": "markdown",
   "id": "153b3fca",
   "metadata": {},
   "source": [
    "## I. Solve given tasks"
   ]
  },
  {
   "cell_type": "markdown",
   "id": "e10f215e",
   "metadata": {},
   "source": [
    "### Task 0"
   ]
  },
  {
   "cell_type": "code",
   "execution_count": 1,
   "id": "5ec7d9b2",
   "metadata": {},
   "outputs": [],
   "source": [
    "import csv\n",
    "with open('texts.csv', 'r') as f:\n",
    "    reader = csv.reader(f)\n",
    "    texts = list(reader)\n",
    "\n",
    "with open('calls.csv', 'r') as f:\n",
    "    reader = csv.reader(f)\n",
    "    calls = list(reader)"
   ]
  },
  {
   "cell_type": "code",
   "execution_count": 2,
   "id": "77ab4950",
   "metadata": {},
   "outputs": [],
   "source": [
    "#texts"
   ]
  },
  {
   "cell_type": "code",
   "execution_count": 3,
   "id": "cf731e82",
   "metadata": {},
   "outputs": [],
   "source": [
    "#calls"
   ]
  },
  {
   "cell_type": "markdown",
   "id": "76072563",
   "metadata": {},
   "source": [
    "**Problem:**\n",
    "\n",
    "What is the first record of texts and what is the last record of calls?\n",
    "\n",
    "Print messages:\n",
    "* \"First record of texts, *incoming number* texts *answering number* at time *time*\"\n",
    "* \"Last record of calls, *incoming number* calls *answering number* at time *time*, lasting *during* seconds\""
   ]
  },
  {
   "cell_type": "markdown",
   "id": "c330e4fd",
   "metadata": {},
   "source": [
    "#### Solution"
   ]
  },
  {
   "cell_type": "code",
   "execution_count": 4,
   "id": "2fda2957",
   "metadata": {},
   "outputs": [
    {
     "name": "stdout",
     "output_type": "stream",
     "text": [
      "First record of texts, 97424 22395 texts 90365 06212 at time 01-09-2016 06:03:22\n",
      "Last record of calls, 98447 62998 calls (080)46304537 at time 30-09-2016 23:57:15, lasting 2151 seconds\n"
     ]
    }
   ],
   "source": [
    "# Add print statements\n",
    "print(\"First record of texts, {} texts {} at time {}\".format(texts[0][0],\n",
    "                                                             texts[0][1],\n",
    "                                                             texts[0][2]))\n",
    "print(\"Last record of calls, {} calls {} at time {}, lasting {} seconds\".format(calls[-1][0],\n",
    "                                                                                calls[-1][1],\n",
    "                                                                                calls[-1][2],\n",
    "                                                                                calls[-1][3]))"
   ]
  },
  {
   "cell_type": "markdown",
   "id": "7df0f875",
   "metadata": {},
   "source": [
    "### Task 1"
   ]
  },
  {
   "cell_type": "markdown",
   "id": "083d378b",
   "metadata": {},
   "source": [
    "**Problem**:\n",
    "\n",
    "How many different telephone numbers are there in the records?\n",
    "\n",
    "Print a message:\n",
    "\n",
    "\"There are *count* different telephone numbers in the records.\""
   ]
  },
  {
   "cell_type": "markdown",
   "id": "ee46294b",
   "metadata": {},
   "source": [
    "#### Solution"
   ]
  },
  {
   "cell_type": "code",
   "execution_count": 5,
   "id": "3d775f5f",
   "metadata": {},
   "outputs": [],
   "source": [
    "sending_tel_num_txt_lst = []\n",
    "receiving_tel_num_txt_lst = []"
   ]
  },
  {
   "cell_type": "code",
   "execution_count": 6,
   "id": "e010065d",
   "metadata": {},
   "outputs": [],
   "source": [
    "for item in texts:\n",
    "    if item[0] not in sending_tel_num_txt_lst:\n",
    "      sending_tel_num_txt_lst.append(item[0])\n",
    "    if item[1] not in receiving_tel_num_txt_lst:\n",
    "        receiving_tel_num_txt_lst.append(item[1])"
   ]
  },
  {
   "cell_type": "code",
   "execution_count": 7,
   "id": "6562a012",
   "metadata": {},
   "outputs": [
    {
     "data": {
      "text/plain": [
       "237"
      ]
     },
     "execution_count": 7,
     "metadata": {},
     "output_type": "execute_result"
    }
   ],
   "source": [
    "len(sending_tel_num_txt_lst)"
   ]
  },
  {
   "cell_type": "code",
   "execution_count": 8,
   "id": "c08fff35",
   "metadata": {},
   "outputs": [
    {
     "data": {
      "text/plain": [
       "230"
      ]
     },
     "execution_count": 8,
     "metadata": {},
     "output_type": "execute_result"
    }
   ],
   "source": [
    "len(receiving_tel_num_txt_lst)"
   ]
  },
  {
   "cell_type": "code",
   "execution_count": 9,
   "id": "a7786055",
   "metadata": {},
   "outputs": [],
   "source": [
    "sending_tel_num_calls_lst = []\n",
    "receiving_tel_num_calls_lst = []"
   ]
  },
  {
   "cell_type": "code",
   "execution_count": 10,
   "id": "91b97a92",
   "metadata": {},
   "outputs": [],
   "source": [
    "for item in calls:\n",
    "    if item[0] not in sending_tel_num_calls_lst:\n",
    "      sending_tel_num_calls_lst.append(item[0])\n",
    "    if item[1] not in receiving_tel_num_calls_lst:\n",
    "        receiving_tel_num_calls_lst.append(item[1])"
   ]
  },
  {
   "cell_type": "code",
   "execution_count": 11,
   "id": "94d46f82",
   "metadata": {},
   "outputs": [
    {
     "data": {
      "text/plain": [
       "479"
      ]
     },
     "execution_count": 11,
     "metadata": {},
     "output_type": "execute_result"
    }
   ],
   "source": [
    "len(sending_tel_num_calls_lst)"
   ]
  },
  {
   "cell_type": "code",
   "execution_count": 12,
   "id": "9731cd1c",
   "metadata": {},
   "outputs": [
    {
     "data": {
      "text/plain": [
       "497"
      ]
     },
     "execution_count": 12,
     "metadata": {},
     "output_type": "execute_result"
    }
   ],
   "source": [
    "len(receiving_tel_num_calls_lst)"
   ]
  },
  {
   "cell_type": "code",
   "execution_count": 13,
   "id": "b222bce2",
   "metadata": {},
   "outputs": [],
   "source": [
    "unique_tel_num_lst = list(set(sending_tel_num_txt_lst + receiving_tel_num_txt_lst + sending_tel_num_calls_lst + receiving_tel_num_calls_lst))"
   ]
  },
  {
   "cell_type": "code",
   "execution_count": 14,
   "id": "b9d44c37",
   "metadata": {},
   "outputs": [
    {
     "data": {
      "text/plain": [
       "570"
      ]
     },
     "execution_count": 14,
     "metadata": {},
     "output_type": "execute_result"
    }
   ],
   "source": [
    "len(unique_tel_num_lst)"
   ]
  },
  {
   "cell_type": "code",
   "execution_count": 15,
   "id": "cd650dc3",
   "metadata": {},
   "outputs": [
    {
     "name": "stdout",
     "output_type": "stream",
     "text": [
      "There are 570 different telephone numbers in the records.\n"
     ]
    }
   ],
   "source": [
    "print(\"There are {} different telephone numbers in the records.\".format(len(unique_tel_num_lst)))"
   ]
  },
  {
   "cell_type": "markdown",
   "id": "01954071",
   "metadata": {},
   "source": [
    "### Task 2"
   ]
  },
  {
   "cell_type": "markdown",
   "id": "5fd7ba50",
   "metadata": {},
   "source": [
    "**Problem**: \n",
    "    \n",
    "Which telephone number spent the longest time on the phone\n",
    "during the period? Don't forget that time spent answering a call is\n",
    "also time spent on the phone.\n",
    "\n",
    "Print a message:\n",
    "\n",
    "\"*Telephone number* spent the longest time, *total time* seconds, on the phone during \n",
    "September 2016.\"."
   ]
  },
  {
   "cell_type": "markdown",
   "id": "f1154c8f",
   "metadata": {},
   "source": [
    "#### Solution"
   ]
  },
  {
   "cell_type": "code",
   "execution_count": 16,
   "id": "3aa6ccfa",
   "metadata": {},
   "outputs": [],
   "source": [
    "# Change datatype from string to integer for the duaration column in calls file\n",
    "for item in calls:\n",
    "    item[3] = int(item[3])"
   ]
  },
  {
   "cell_type": "code",
   "execution_count": 17,
   "id": "4171eb70",
   "metadata": {},
   "outputs": [],
   "source": [
    "#calls"
   ]
  },
  {
   "cell_type": "code",
   "execution_count": 18,
   "id": "fba80fc5",
   "metadata": {},
   "outputs": [],
   "source": [
    "# Create a dictionary with unique phone numbers\n",
    "unique_tel_num_dict = dict.fromkeys(unique_tel_num_lst, 0)"
   ]
  },
  {
   "cell_type": "code",
   "execution_count": 19,
   "id": "e0163a97",
   "metadata": {},
   "outputs": [],
   "source": [
    "#unique_tel_num_dict"
   ]
  },
  {
   "cell_type": "code",
   "execution_count": 20,
   "id": "ad46e5fb",
   "metadata": {},
   "outputs": [],
   "source": [
    "for item in calls:\n",
    "    unique_tel_num_dict[item[0]] += item[3]\n",
    "    unique_tel_num_dict[item[1]] += item[3]"
   ]
  },
  {
   "cell_type": "code",
   "execution_count": 21,
   "id": "93a895fe",
   "metadata": {},
   "outputs": [],
   "source": [
    "#unique_tel_num_dict"
   ]
  },
  {
   "cell_type": "code",
   "execution_count": 22,
   "id": "f1b11161",
   "metadata": {},
   "outputs": [],
   "source": [
    "max_key = max(unique_tel_num_dict, key=unique_tel_num_dict.get)"
   ]
  },
  {
   "cell_type": "code",
   "execution_count": 23,
   "id": "41c7981e",
   "metadata": {},
   "outputs": [
    {
     "data": {
      "text/plain": [
       "'(080)33251027'"
      ]
     },
     "execution_count": 23,
     "metadata": {},
     "output_type": "execute_result"
    }
   ],
   "source": [
    "max_key"
   ]
  },
  {
   "cell_type": "code",
   "execution_count": 24,
   "id": "91307899",
   "metadata": {},
   "outputs": [
    {
     "data": {
      "text/plain": [
       "90456"
      ]
     },
     "execution_count": 24,
     "metadata": {},
     "output_type": "execute_result"
    }
   ],
   "source": [
    "unique_tel_num_dict[max_key]"
   ]
  },
  {
   "cell_type": "code",
   "execution_count": 25,
   "id": "49169b54",
   "metadata": {},
   "outputs": [
    {
     "name": "stdout",
     "output_type": "stream",
     "text": [
      "(080)33251027 spent the longest time, 90456 seconds, on the phone during September 2016\n"
     ]
    }
   ],
   "source": [
    "print(\"{} spent the longest time, {} seconds, on the phone during September 2016\".format(max_key,\n",
    "                                                                                         unique_tel_num_dict[max_key]))"
   ]
  },
  {
   "cell_type": "markdown",
   "id": "ca291c0d",
   "metadata": {},
   "source": [
    "### Task 3"
   ]
  },
  {
   "cell_type": "markdown",
   "id": "11255b37",
   "metadata": {},
   "source": [
    "**Problem:**\n",
    "\n",
    "(080) is the area code for fixed line telephones in Bangalore.\n",
    "Fixed line numbers include parentheses, so Bangalore numbers\n",
    "have the form (080)xxxxxxx.)\n",
    "\n",
    "Part A: Find all of the area codes and mobile prefixes called by people\n",
    "in Bangalore. In other words, the calls were initiated by \"(080)\" area code\n",
    "to the following area codes and mobile prefixes:\n",
    " - Fixed lines start with an area code enclosed in brackets. The area\n",
    "   codes vary in length but always begin with 0.\n",
    " - Mobile numbers have no parentheses, but have a space in the middle\n",
    "   of the number to help readability. The prefix of a mobile number\n",
    "   is its first four digits, and they always start with 7, 8 or 9.\n",
    " - Telemarketers' numbers have no parentheses or space, but they start\n",
    "   with the area code 140.\n",
    "\n",
    "Print the answer as part of a message:\n",
    "\"The numbers called by people in Bangalore have codes:\"\n",
    " *list of codes*\n",
    "The list of codes should be print out one per line in lexicographic order with no duplicates.\n",
    "\n",
    "Part B: What percentage of calls from fixed lines in Bangalore are made\n",
    "to fixed lines also in Bangalore? In other words, of all the calls made\n",
    "from a number starting with \"(080)\", what percentage of these calls\n",
    "were made to a number also starting with \"(080)\"?\n",
    "\n",
    "Print the answer as a part of a message::\n",
    "\"*percentage* percent of calls from fixed lines in Bangalore are calls\n",
    "to other fixed lines in Bangalore.\"\n",
    "The percentage should have 2 decimal digits"
   ]
  },
  {
   "cell_type": "code",
   "execution_count": null,
   "id": "8e47ccf4",
   "metadata": {},
   "outputs": [],
   "source": []
  },
  {
   "cell_type": "code",
   "execution_count": null,
   "id": "339c935c",
   "metadata": {},
   "outputs": [],
   "source": []
  },
  {
   "cell_type": "code",
   "execution_count": null,
   "id": "9e37cf21",
   "metadata": {},
   "outputs": [],
   "source": []
  },
  {
   "cell_type": "code",
   "execution_count": null,
   "id": "4772f4e0",
   "metadata": {},
   "outputs": [],
   "source": []
  },
  {
   "cell_type": "code",
   "execution_count": null,
   "id": "64608232",
   "metadata": {},
   "outputs": [],
   "source": []
  },
  {
   "cell_type": "code",
   "execution_count": null,
   "id": "a5b11680",
   "metadata": {},
   "outputs": [],
   "source": []
  },
  {
   "cell_type": "code",
   "execution_count": null,
   "id": "4feffc3d",
   "metadata": {},
   "outputs": [],
   "source": []
  },
  {
   "cell_type": "code",
   "execution_count": null,
   "id": "18271aa8",
   "metadata": {},
   "outputs": [],
   "source": []
  },
  {
   "cell_type": "code",
   "execution_count": null,
   "id": "9410cddc",
   "metadata": {},
   "outputs": [],
   "source": []
  },
  {
   "cell_type": "code",
   "execution_count": null,
   "id": "7838ac69",
   "metadata": {},
   "outputs": [],
   "source": []
  },
  {
   "cell_type": "code",
   "execution_count": null,
   "id": "20c794aa",
   "metadata": {},
   "outputs": [],
   "source": []
  },
  {
   "cell_type": "code",
   "execution_count": null,
   "id": "8ead8926",
   "metadata": {},
   "outputs": [],
   "source": []
  },
  {
   "cell_type": "code",
   "execution_count": null,
   "id": "81296ecd",
   "metadata": {},
   "outputs": [],
   "source": []
  },
  {
   "cell_type": "code",
   "execution_count": null,
   "id": "cd74a73d",
   "metadata": {},
   "outputs": [],
   "source": []
  },
  {
   "cell_type": "code",
   "execution_count": null,
   "id": "0a21d07f",
   "metadata": {},
   "outputs": [],
   "source": []
  },
  {
   "cell_type": "code",
   "execution_count": null,
   "id": "faf29f67",
   "metadata": {},
   "outputs": [],
   "source": []
  }
 ],
 "metadata": {
  "kernelspec": {
   "display_name": "Python 3",
   "language": "python",
   "name": "python3"
  },
  "language_info": {
   "codemirror_mode": {
    "name": "ipython",
    "version": 3
   },
   "file_extension": ".py",
   "mimetype": "text/x-python",
   "name": "python",
   "nbconvert_exporter": "python",
   "pygments_lexer": "ipython3",
   "version": "3.7.10"
  }
 },
 "nbformat": 4,
 "nbformat_minor": 5
}
